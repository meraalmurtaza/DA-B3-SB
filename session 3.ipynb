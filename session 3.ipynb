{
 "cells": [
  {
   "cell_type": "markdown",
   "id": "d53ea5dd-3155-4722-b8a7-2217d1199f83",
   "metadata": {},
   "source": [
    "print('hello world')"
   ]
  },
  {
   "cell_type": "code",
   "execution_count": 1,
   "id": "62f9998b-159a-4dca-99d3-36a87b99c318",
   "metadata": {},
   "outputs": [
    {
     "name": "stdout",
     "output_type": "stream",
     "text": [
      "hello world\n"
     ]
    }
   ],
   "source": [
    "print(\"hello world\")"
   ]
  },
  {
   "cell_type": "code",
   "execution_count": 4,
   "id": "7b80a51c-c90a-4622-9e4e-84b2fe1111d7",
   "metadata": {},
   "outputs": [
    {
     "ename": "SyntaxError",
     "evalue": "unterminated string literal (detected at line 2) (2458276536.py, line 2)",
     "output_type": "error",
     "traceback": [
      "\u001b[1;36m  Cell \u001b[1;32mIn[4], line 2\u001b[1;36m\u001b[0m\n\u001b[1;33m    'we are learning python\u001b[0m\n\u001b[1;37m    ^\u001b[0m\n\u001b[1;31mSyntaxError\u001b[0m\u001b[1;31m:\u001b[0m unterminated string literal (detected at line 2)\n"
     ]
    }
   ],
   "source": [
    "''' '''\n",
    "'we are learning python\n",
    "'meraal murtaza'"
   ]
  },
  {
   "cell_type": "code",
   "execution_count": 2,
   "id": "9ac396f6-9de4-4420-a7c8-d5ad62dd7ef6",
   "metadata": {},
   "outputs": [
    {
     "ename": "SyntaxError",
     "evalue": "unterminated string literal (detected at line 2) (1432043980.py, line 2)",
     "output_type": "error",
     "traceback": [
      "\u001b[1;36m  Cell \u001b[1;32mIn[2], line 2\u001b[1;36m\u001b[0m\n\u001b[1;33m    'we are learning python\u001b[0m\n\u001b[1;37m    ^\u001b[0m\n\u001b[1;31mSyntaxError\u001b[0m\u001b[1;31m:\u001b[0m unterminated string literal (detected at line 2)\n"
     ]
    }
   ],
   "source": [
    "''' '''\n",
    "'we are learning python\n",
    "meraal murtaza'"
   ]
  },
  {
   "cell_type": "code",
   "execution_count": 6,
   "id": "d41686f0-d58f-4966-84a6-a78fe78cc125",
   "metadata": {},
   "outputs": [
    {
     "data": {
      "text/plain": [
       "'meraal murtaza,age=22,learning python'"
      ]
     },
     "execution_count": 6,
     "metadata": {},
     "output_type": "execute_result"
    }
   ],
   "source": [
    "'meraal murtaza,age=22,learning python'"
   ]
  },
  {
   "cell_type": "code",
   "execution_count": 8,
   "id": "64bc87e8-a130-4c64-9326-e70acb9c176b",
   "metadata": {},
   "outputs": [
    {
     "data": {
      "text/plain": [
       "'i am learning python'"
      ]
     },
     "execution_count": 8,
     "metadata": {},
     "output_type": "execute_result"
    }
   ],
   "source": [
    "'i am meraal murtaza'\n",
    "'i am 22 years old'\n",
    "'i am learning python'"
   ]
  },
  {
   "cell_type": "code",
   "execution_count": 9,
   "id": "0d3da97b-5bc1-48cb-9b33-f76afd84c1fa",
   "metadata": {},
   "outputs": [
    {
     "data": {
      "text/plain": [
       "'we are lerning python\\nimran khan'"
      ]
     },
     "execution_count": 9,
     "metadata": {},
     "output_type": "execute_result"
    }
   ],
   "source": [
    "\"\"\"we are lerning python\n",
    "imran khan\"\"\""
   ]
  },
  {
   "cell_type": "code",
   "execution_count": 10,
   "id": "6654175b-242b-4f6b-af30-3f2a5e0d6a14",
   "metadata": {},
   "outputs": [
    {
     "name": "stdout",
     "output_type": "stream",
     "text": [
      "we are lerning python\n",
      "imran khan\n"
     ]
    }
   ],
   "source": [
    "print (\"\"\"we are lerning python\n",
    "imran khan\"\"\")"
   ]
  },
  {
   "cell_type": "code",
   "execution_count": 11,
   "id": "19589327-ec7f-48bf-815e-327050e77b5e",
   "metadata": {},
   "outputs": [
    {
     "name": "stdout",
     "output_type": "stream",
     "text": [
      "i am learning python \n",
      "meraal murtaza \n"
     ]
    }
   ],
   "source": [
    "print('''i am learning python \n",
    "meraal murtaza ''')"
   ]
  },
  {
   "cell_type": "code",
   "execution_count": 12,
   "id": "ab214090-fea0-427c-b238-c69898ff6386",
   "metadata": {},
   "outputs": [
    {
     "data": {
      "text/plain": [
       "1.0"
      ]
     },
     "execution_count": 12,
     "metadata": {},
     "output_type": "execute_result"
    }
   ],
   "source": [
    "5/5"
   ]
  },
  {
   "cell_type": "code",
   "execution_count": 13,
   "id": "a1e2ce0f-39dd-414e-ae68-ac9035e0d407",
   "metadata": {},
   "outputs": [
    {
     "data": {
      "text/plain": [
       "10"
      ]
     },
     "execution_count": 13,
     "metadata": {},
     "output_type": "execute_result"
    }
   ],
   "source": [
    "10%100"
   ]
  },
  {
   "cell_type": "code",
   "execution_count": 16,
   "id": "1e7a5f2a-73f4-433b-9497-68b0c276a352",
   "metadata": {},
   "outputs": [
    {
     "data": {
      "text/plain": [
       "5"
      ]
     },
     "execution_count": 16,
     "metadata": {},
     "output_type": "execute_result"
    }
   ],
   "source": [
    "5%200"
   ]
  },
  {
   "cell_type": "markdown",
   "id": "448ce3ae-22e5-4f30-83fc-66c6f521e13b",
   "metadata": {},
   "source": [
    "my_name= \"meraal\""
   ]
  },
  {
   "cell_type": "code",
   "execution_count": 18,
   "id": "5ca5518e-7d22-46f8-8757-984a20118a74",
   "metadata": {},
   "outputs": [],
   "source": [
    "my_name = \"meraal\""
   ]
  },
  {
   "cell_type": "code",
   "execution_count": 21,
   "id": "2b4625a0-4a57-44b8-8024-fc0535c79ac5",
   "metadata": {},
   "outputs": [
    {
     "data": {
      "text/plain": [
       "'meraal'"
      ]
     },
     "execution_count": 21,
     "metadata": {},
     "output_type": "execute_result"
    }
   ],
   "source": [
    "my_name "
   ]
  },
  {
   "cell_type": "code",
   "execution_count": 22,
   "id": "b88a48e0-732d-4fe9-b99f-4f2021dc3282",
   "metadata": {},
   "outputs": [],
   "source": [
    "my_name2=\"manahil\""
   ]
  },
  {
   "cell_type": "code",
   "execution_count": 23,
   "id": "f16817c8-bfc0-4698-b88a-81f7a27b2109",
   "metadata": {},
   "outputs": [
    {
     "data": {
      "text/plain": [
       "'manahil'"
      ]
     },
     "execution_count": 23,
     "metadata": {},
     "output_type": "execute_result"
    }
   ],
   "source": [
    "my_name2"
   ]
  },
  {
   "cell_type": "code",
   "execution_count": 24,
   "id": "9c85a7db-83fa-4a5a-b063-bf8824a5cd0f",
   "metadata": {},
   "outputs": [
    {
     "ename": "SyntaxError",
     "evalue": "invalid syntax (1467837505.py, line 1)",
     "output_type": "error",
     "traceback": [
      "\u001b[1;36m  Cell \u001b[1;32mIn[24], line 1\u001b[1;36m\u001b[0m\n\u001b[1;33m    if=12\u001b[0m\n\u001b[1;37m      ^\u001b[0m\n\u001b[1;31mSyntaxError\u001b[0m\u001b[1;31m:\u001b[0m invalid syntax\n"
     ]
    }
   ],
   "source": [
    "if=12\n"
   ]
  },
  {
   "cell_type": "code",
   "execution_count": 25,
   "id": "e025870d-8520-4b17-ae4e-094c1cad9ffd",
   "metadata": {},
   "outputs": [
    {
     "data": {
      "text/plain": [
       "5"
      ]
     },
     "execution_count": 25,
     "metadata": {},
     "output_type": "execute_result"
    }
   ],
   "source": [
    "2+3"
   ]
  },
  {
   "cell_type": "code",
   "execution_count": 26,
   "id": "81d3902f-2e49-4408-9fcf-f131787b2d87",
   "metadata": {},
   "outputs": [
    {
     "data": {
      "text/plain": [
       "40"
      ]
     },
     "execution_count": 26,
     "metadata": {},
     "output_type": "execute_result"
    }
   ],
   "source": [
    "45-5"
   ]
  },
  {
   "cell_type": "code",
   "execution_count": 27,
   "id": "45478281-e591-49a9-8370-26b4e30d3d58",
   "metadata": {},
   "outputs": [
    {
     "data": {
      "text/plain": [
       "50"
      ]
     },
     "execution_count": 27,
     "metadata": {},
     "output_type": "execute_result"
    }
   ],
   "source": [
    "5*10"
   ]
  },
  {
   "cell_type": "code",
   "execution_count": 28,
   "id": "ae560183-da79-4306-a7c9-f512e73b071f",
   "metadata": {},
   "outputs": [
    {
     "data": {
      "text/plain": [
       "125"
      ]
     },
     "execution_count": 28,
     "metadata": {},
     "output_type": "execute_result"
    }
   ],
   "source": [
    "5**3"
   ]
  },
  {
   "cell_type": "code",
   "execution_count": 29,
   "id": "b4e3deb5-eae6-454f-927c-71cf44c45319",
   "metadata": {},
   "outputs": [
    {
     "data": {
      "text/plain": [
       "25"
      ]
     },
     "execution_count": 29,
     "metadata": {},
     "output_type": "execute_result"
    }
   ],
   "source": [
    "5**2"
   ]
  },
  {
   "cell_type": "code",
   "execution_count": 30,
   "id": "0ae5ccdd-b36b-45d3-be89-682b4da6f45f",
   "metadata": {},
   "outputs": [
    {
     "data": {
      "text/plain": [
       "1"
      ]
     },
     "execution_count": 30,
     "metadata": {},
     "output_type": "execute_result"
    }
   ],
   "source": [
    "5//5"
   ]
  },
  {
   "cell_type": "code",
   "execution_count": 31,
   "id": "c8e6e06c-d1de-4879-851d-d9cde470a8f1",
   "metadata": {},
   "outputs": [
    {
     "data": {
      "text/plain": [
       "1.0"
      ]
     },
     "execution_count": 31,
     "metadata": {},
     "output_type": "execute_result"
    }
   ],
   "source": [
    "5/5"
   ]
  },
  {
   "cell_type": "code",
   "execution_count": 32,
   "id": "9492f5f9-6366-432e-955d-473ba617098b",
   "metadata": {},
   "outputs": [
    {
     "ename": "SyntaxError",
     "evalue": "invalid syntax (302269213.py, line 1)",
     "output_type": "error",
     "traceback": [
      "\u001b[1;36m  Cell \u001b[1;32mIn[32], line 1\u001b[1;36m\u001b[0m\n\u001b[1;33m    5///5\u001b[0m\n\u001b[1;37m       ^\u001b[0m\n\u001b[1;31mSyntaxError\u001b[0m\u001b[1;31m:\u001b[0m invalid syntax\n"
     ]
    }
   ],
   "source": [
    "5///5"
   ]
  },
  {
   "cell_type": "code",
   "execution_count": 33,
   "id": "dca32a8f-7c5a-4812-a0ff-13566945be58",
   "metadata": {},
   "outputs": [
    {
     "data": {
      "text/plain": [
       "1"
      ]
     },
     "execution_count": 33,
     "metadata": {},
     "output_type": "execute_result"
    }
   ],
   "source": [
    "5%4"
   ]
  },
  {
   "cell_type": "code",
   "execution_count": 34,
   "id": "c872c98d-0db4-46b5-9e22-c6008d0ba190",
   "metadata": {},
   "outputs": [
    {
     "data": {
      "text/plain": [
       "0"
      ]
     },
     "execution_count": 34,
     "metadata": {},
     "output_type": "execute_result"
    }
   ],
   "source": [
    "10%2"
   ]
  },
  {
   "cell_type": "markdown",
   "id": "b9052cd1-7c42-4676-ba81-d0e08b41a631",
   "metadata": {},
   "source": [
    "#typecasting"
   ]
  },
  {
   "cell_type": "markdown",
   "id": "a75403d3-57d8-4d3e-98c1-e428a9d5f916",
   "metadata": {},
   "source": [
    "# typecasting"
   ]
  },
  {
   "cell_type": "code",
   "execution_count": 42,
   "id": "2b584d9f-63d8-41ce-b16e-60e216438c46",
   "metadata": {},
   "outputs": [
    {
     "data": {
      "text/plain": [
       "'1234512345'"
      ]
     },
     "execution_count": 42,
     "metadata": {},
     "output_type": "execute_result"
    }
   ],
   "source": [
    "'12345'+'12345'"
   ]
  },
  {
   "cell_type": "code",
   "execution_count": 43,
   "id": "bebff9ee-196d-4856-93d6-9a260cd98f84",
   "metadata": {},
   "outputs": [
    {
     "data": {
      "text/plain": [
       "24690"
      ]
     },
     "execution_count": 43,
     "metadata": {},
     "output_type": "execute_result"
    }
   ],
   "source": [
    "12345+12345"
   ]
  },
  {
   "cell_type": "code",
   "execution_count": 44,
   "id": "c6cf6656-897b-4600-8b1f-5f9f3b80a9a6",
   "metadata": {},
   "outputs": [
    {
     "data": {
      "text/plain": [
       "int"
      ]
     },
     "execution_count": 44,
     "metadata": {},
     "output_type": "execute_result"
    }
   ],
   "source": [
    "type(12345)"
   ]
  },
  {
   "cell_type": "code",
   "execution_count": 46,
   "id": "cd88ab46-ab92-4d25-80f0-1a5498cba417",
   "metadata": {},
   "outputs": [
    {
     "data": {
      "text/plain": [
       "int"
      ]
     },
     "execution_count": 46,
     "metadata": {},
     "output_type": "execute_result"
    }
   ],
   "source": [
    "type(int(\"12345\"))"
   ]
  },
  {
   "cell_type": "code",
   "execution_count": 47,
   "id": "7760fa02-6018-4cfd-9da8-ff9b0bd8bc88",
   "metadata": {},
   "outputs": [
    {
     "data": {
      "text/plain": [
       "13"
      ]
     },
     "execution_count": 47,
     "metadata": {},
     "output_type": "execute_result"
    }
   ],
   "source": [
    "int(13.75)"
   ]
  },
  {
   "cell_type": "code",
   "execution_count": 48,
   "id": "92077093-4c70-4809-98d4-25422831b802",
   "metadata": {},
   "outputs": [
    {
     "data": {
      "text/plain": [
       "13.75"
      ]
     },
     "execution_count": 48,
     "metadata": {},
     "output_type": "execute_result"
    }
   ],
   "source": [
    "float(\"13.75\")"
   ]
  },
  {
   "cell_type": "code",
   "execution_count": 49,
   "id": "18624bab-12e0-418c-982d-d95294867f7e",
   "metadata": {},
   "outputs": [
    {
     "data": {
      "text/plain": [
       "'12345.25'"
      ]
     },
     "execution_count": 49,
     "metadata": {},
     "output_type": "execute_result"
    }
   ],
   "source": [
    "str(12345.25)"
   ]
  },
  {
   "cell_type": "code",
   "execution_count": null,
   "id": "7f2a9f9d-2093-4860-b0c1-ef6854963b9e",
   "metadata": {},
   "outputs": [],
   "source": [
    "int(meraal)"
   ]
  },
  {
   "cell_type": "code",
   "execution_count": 54,
   "id": "44965267-47fb-4e6c-b73d-d7d6b53b559c",
   "metadata": {},
   "outputs": [
    {
     "data": {
      "text/plain": [
       "'123123'"
      ]
     },
     "execution_count": 54,
     "metadata": {},
     "output_type": "execute_result"
    }
   ],
   "source": [
    "'123'+'123'"
   ]
  },
  {
   "cell_type": "code",
   "execution_count": 55,
   "id": "b034b85c-5706-4906-8bf9-6a5c2ad0d810",
   "metadata": {},
   "outputs": [
    {
     "data": {
      "text/plain": [
       "246"
      ]
     },
     "execution_count": 55,
     "metadata": {},
     "output_type": "execute_result"
    }
   ],
   "source": [
    "123+123"
   ]
  },
  {
   "cell_type": "markdown",
   "id": "6bb78a55-2049-461f-ba46-e447e3ee4771",
   "metadata": {},
   "source": [
    "# list"
   ]
  },
  {
   "cell_type": "code",
   "execution_count": 63,
   "id": "5582f653-6916-4f67-be05-31e12fb58a3f",
   "metadata": {},
   "outputs": [
    {
     "data": {
      "text/plain": [
       "['meraal', 22, 'python']"
      ]
     },
     "execution_count": 63,
     "metadata": {},
     "output_type": "execute_result"
    }
   ],
   "source": [
    "my_list=['meraal',22,'python']\n",
    "my_list\n"
   ]
  },
  {
   "cell_type": "code",
   "execution_count": null,
   "id": "a51508e6-f93a-423b-bf93-a21c374ba2ce",
   "metadata": {},
   "outputs": [],
   "source": []
  }
 ],
 "metadata": {
  "kernelspec": {
   "display_name": "Python 3 (ipykernel)",
   "language": "python",
   "name": "python3"
  },
  "language_info": {
   "codemirror_mode": {
    "name": "ipython",
    "version": 3
   },
   "file_extension": ".py",
   "mimetype": "text/x-python",
   "name": "python",
   "nbconvert_exporter": "python",
   "pygments_lexer": "ipython3",
   "version": "3.12.7"
  }
 },
 "nbformat": 4,
 "nbformat_minor": 5
}
